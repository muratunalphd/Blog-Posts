{
 "cells": [
  {
   "cell_type": "code",
   "execution_count": 3,
   "id": "547941e3-9ac9-42f5-bca3-c908b5cd0cb1",
   "metadata": {},
   "outputs": [],
   "source": [
    "import warnings\n",
    "warnings.filterwarnings(\"ignore\")\n",
    "import pandas as pd\n",
    "import numpy as np\n",
    "pd.set_option(\"display.max_columns\", None)\n",
    "pd.set_option(\"display.max_rows\", None)\n",
    "pd.set_option('display.max_colwidth', None)\n",
    "from plotnine import *\n",
    "from tqdm import tqdm\n",
    "from joblib import Parallel, delayed # for parallel processing\n",
    "import statsmodels.formula.api as smf"
   ]
  },
  {
   "cell_type": "code",
   "execution_count": 4,
   "id": "23a9ae39-2418-4468-a773-09e524dc0b28",
   "metadata": {},
   "outputs": [],
   "source": [
    "def dgp(n=2000, p=10):\n",
    "        \n",
    "    Xmat = np.random.multivariate_normal(np.zeros(p), np.eye(p), size=n).astype('float32')\n",
    "\n",
    "    T = np.random.binomial(1, 0.5, n).astype('int8')\n",
    "\n",
    "    col_list = ['X' + str(x) for x in range(1,(p+1))]\n",
    "\n",
    "    df = pd.DataFrame(Xmat, columns = col_list)\n",
    "    \n",
    "    # functional form of the covariates\n",
    "    B = 225 + 50*df['X1'] + 5*df['X2'] + 20*(df['X3']-0.5) + 10*df['X4'] + 5*df['X5']\n",
    "\n",
    "    # constant ate\n",
    "    tau = 5 \n",
    "    \n",
    "    Y = (B + tau*T + np.random.normal(0,25,n)).astype('float32')\n",
    "        \n",
    "    df['T'] = T\n",
    "    df['Y'] = Y\n",
    "\n",
    "    return df"
   ]
  },
  {
   "cell_type": "code",
   "execution_count": null,
   "id": "0f7d233a-d91f-4842-a1d4-a9c8373031e4",
   "metadata": {},
   "outputs": [],
   "source": [
    "# print(np.iinfo('int8'))\n",
    "# print(np.finfo('float16'))"
   ]
  },
  {
   "cell_type": "code",
   "execution_count": 37,
   "id": "7cd750f5-2177-46eb-9953-8d86697ee611",
   "metadata": {},
   "outputs": [
    {
     "name": "stdout",
     "output_type": "stream",
     "text": [
      "106128\n",
      "Y     1.000000\n",
      "X1    0.818474\n",
      "X2    0.103364\n",
      "X3    0.323571\n",
      "X4    0.175241\n",
      "X5    0.087278\n",
      "T    -0.008102\n",
      "Name: Y, dtype: float64\n",
      "count    2000.000000\n",
      "mean      216.446838\n",
      "std        60.730389\n",
      "min         3.774028\n",
      "25%       174.460358\n",
      "50%       216.026443\n",
      "75%       259.250412\n",
      "max       411.338776\n",
      "Name: Y, dtype: float64\n"
     ]
    },
    {
     "data": {
      "text/html": [
       "<table class=\"simpletable\">\n",
       "<tr>\n",
       "      <td></td>         <th>coef</th>     <th>std err</th>      <th>t</th>      <th>P>|t|</th>  <th>[0.025</th>    <th>0.975]</th>  \n",
       "</tr>\n",
       "<tr>\n",
       "  <th>Intercept</th> <td>  216.9358</td> <td>    1.911</td> <td>  113.540</td> <td> 0.000</td> <td>  213.189</td> <td>  220.683</td>\n",
       "</tr>\n",
       "<tr>\n",
       "  <th>T</th>         <td>   -0.9838</td> <td>    2.717</td> <td>   -0.362</td> <td> 0.717</td> <td>   -6.312</td> <td>    4.344</td>\n",
       "</tr>\n",
       "</table>"
      ],
      "text/plain": [
       "<class 'statsmodels.iolib.table.SimpleTable'>"
      ]
     },
     "execution_count": 37,
     "metadata": {},
     "output_type": "execute_result"
    }
   ],
   "source": [
    "data = dgp()\n",
    "#Memory\n",
    "print(data.memory_usage(deep=True).sum() )\n",
    "#Correlations\n",
    "print(data[['Y','X1','X2','X3','X4','X5','T']].corr()['Y'])\n",
    "print(data['Y'].describe())\n",
    "\n",
    "ols = smf.ols('Y ~ T', data = data).fit(cov_type='HC1',use_t=True)\n",
    "\n",
    "ols.summary().tables[1]"
   ]
  },
  {
   "cell_type": "code",
   "execution_count": 50,
   "id": "956a0664-7c49-432a-b444-f7f629e99a7c",
   "metadata": {},
   "outputs": [],
   "source": [
    "data['Tplot'] = data['T'] + np.random.normal(0, 0.01, size=len(data[\"Y\"]))\n",
    "\n",
    "p0 = (ggplot(data, aes(x='Tplot', y='Y'))+\n",
    " geom_point(color='c')+\n",
    " ylab(\"Spending Amount ($)\") + \n",
    " xlab(\"Received Coupon\")+\n",
    " geom_smooth(method='lm',se=False, color=\"salmon\")+\n",
    " theme(figure_size=(10, 8)) +\n",
    "  theme(axis_text_x = element_text(angle = 0, hjust = 1))\n",
    ")"
   ]
  },
  {
   "cell_type": "code",
   "execution_count": 51,
   "id": "48ac70b0-fd1e-4349-896f-6aa26980c625",
   "metadata": {},
   "outputs": [],
   "source": [
    "ggplot.save(p0,\"p0\")"
   ]
  },
  {
   "cell_type": "code",
   "execution_count": 38,
   "id": "8a7d4d6b-a199-472a-8047-90292e8b104b",
   "metadata": {},
   "outputs": [],
   "source": [
    "model_t = smf.ols('T ~ ' + ('+').join(data.columns.tolist()[0:10]), data=data).fit(cov_type='HC1',use_t=True)\n",
    "model_y = smf.ols('Y ~ ' + ('+').join(data.columns.tolist()[0:10]), data=data).fit(cov_type='HC1',use_t=True)\n",
    "\n",
    "residuals = pd.DataFrame(dict(res_y=model_y.resid, res_t=model_t.resid))\n",
    "\n",
    "model_res = smf.ols('res_y ~ res_t', data=residuals).fit()"
   ]
  },
  {
   "cell_type": "code",
   "execution_count": 39,
   "id": "90b52a0d-6bb2-441a-949e-942f84933dec",
   "metadata": {},
   "outputs": [
    {
     "name": "stdout",
     "output_type": "stream",
     "text": [
      "Y Variance 3686.34\n",
      "Y Residual Variance 634.12\n",
      "T Variance 0.25\n",
      "T Residual Variance 0.25\n"
     ]
    },
    {
     "data": {
      "text/html": [
       "<table class=\"simpletable\">\n",
       "<tr>\n",
       "      <td></td>         <th>coef</th>     <th>std err</th>      <th>t</th>      <th>P>|t|</th>  <th>[0.025</th>    <th>0.975]</th>  \n",
       "</tr>\n",
       "<tr>\n",
       "  <th>Intercept</th> <td>-1.707e-13</td> <td>    0.560</td> <td>-3.05e-13</td> <td> 1.000</td> <td>   -1.098</td> <td>    1.098</td>\n",
       "</tr>\n",
       "<tr>\n",
       "  <th>res_t</th>     <td>    5.5722</td> <td>    1.123</td> <td>    4.962</td> <td> 0.000</td> <td>    3.370</td> <td>    7.775</td>\n",
       "</tr>\n",
       "</table>"
      ],
      "text/plain": [
       "<class 'statsmodels.iolib.table.SimpleTable'>"
      ]
     },
     "execution_count": 39,
     "metadata": {},
     "output_type": "execute_result"
    }
   ],
   "source": [
    "print(\"Y Variance\", round(np.var(data[\"Y\"]),2))\n",
    "print(\"Y Residual Variance\", round(np.var(residuals[\"res_y\"]),2))\n",
    "\n",
    "print(\"T Variance\", round(np.var(data[\"T\"]),2))\n",
    "print(\"T Residual Variance\", round(np.var(residuals[\"res_t\"]),2))\n",
    "\n",
    "model_res.summary().tables[1]"
   ]
  },
  {
   "cell_type": "code",
   "execution_count": 40,
   "id": "5a83fe35-fe35-4554-92da-be798064af6a",
   "metadata": {},
   "outputs": [
    {
     "name": "stdout",
     "output_type": "stream",
     "text": [
      "==============================================================================\n",
      "                 coef    std err          t      P>|t|      [0.025      0.975]\n",
      "------------------------------------------------------------------------------\n",
      "Intercept    214.3352      0.792    270.469      0.000     212.781     215.889\n",
      "T              5.5722      1.126      4.947      0.000       3.363       7.781\n",
      "X1            50.1713      0.544     92.305      0.000      49.105      51.237\n",
      "X2             5.6505      0.587      9.620      0.000       4.498       6.802\n",
      "X3            20.1595      0.546     36.927      0.000      19.089      21.230\n",
      "X4            10.5453      0.590     17.884      0.000       9.389      11.702\n",
      "X5             4.9174      0.578      8.503      0.000       3.783       6.051\n",
      "X6             0.3534      0.571      0.619      0.536      -0.767       1.474\n",
      "X7             0.7008      0.560      1.252      0.211      -0.397       1.798\n",
      "X8             0.5205      0.524      0.992      0.321      -0.508       1.549\n",
      "X9            -0.1514      0.580     -0.261      0.794      -1.289       0.986\n",
      "X10           -0.2560      0.559     -0.458      0.647      -1.352       0.840\n",
      "==============================================================================\n"
     ]
    }
   ],
   "source": [
    "ols = smf.ols('Y ~ T+' + ('+').join(data.columns.tolist()[0:10]),\n",
    "                 data = data).fit(cov_type='HC1',use_t=True)\n",
    "\n",
    "print(ols.summary().tables[1])"
   ]
  },
  {
   "cell_type": "code",
   "execution_count": 52,
   "id": "ae0c50e5-f698-4b28-86f7-1b16bf29d5fc",
   "metadata": {},
   "outputs": [],
   "source": [
    "residuals['Tplot'] = data['Tplot']\n",
    "\n",
    "p1=(ggplot(residuals, aes(x='Tplot', y='res_y'))+\n",
    " geom_point(color='c') + \n",
    " ylab(\"Spending Amount ($)\") +\n",
    " xlab(\"Received Coupon\") +\n",
    "  geom_smooth(method='lm',se=False, color=\"salmon\")+\n",
    " theme(figure_size=(10, 8)) +\n",
    "  theme(axis_text_x = element_text(angle = 0, hjust = 1))\n",
    ")"
   ]
  },
  {
   "cell_type": "code",
   "execution_count": 53,
   "id": "e00148f9-447a-4b57-8555-a578526a4a8f",
   "metadata": {},
   "outputs": [],
   "source": [
    "ggplot.save(p1,\"p1\")"
   ]
  }
 ],
 "metadata": {
  "kernelspec": {
   "display_name": "Python 3 (ipykernel)",
   "language": "python",
   "name": "python3"
  },
  "language_info": {
   "codemirror_mode": {
    "name": "ipython",
    "version": 3
   },
   "file_extension": ".py",
   "mimetype": "text/x-python",
   "name": "python",
   "nbconvert_exporter": "python",
   "pygments_lexer": "ipython3",
   "version": "3.9.6"
  }
 },
 "nbformat": 4,
 "nbformat_minor": 5
}
